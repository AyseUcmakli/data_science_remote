{
 "cells": [
  {
   "cell_type": "code",
   "execution_count": 31,
   "id": "d421c986",
   "metadata": {},
   "outputs": [],
   "source": [
    "import numpy as np\n",
    "import pandas as pd\n",
    "from scipy import stats\n",
    "import matplotlib.pyplot as plt\n",
    "import seaborn as sns\n",
    "import warnings \n",
    "warnings.filterwarnings(\"ignore\")"
   ]
  },
  {
   "cell_type": "markdown",
   "id": "7c3fc0a3",
   "metadata": {},
   "source": [
    "# EXERCISE 1. \n",
    "The hourly wages in a particular industry are normally distributed with mean $13.20 and standard deviation $2.50. A company in this industry employs 40 workers, paying them an average of $12.20 per hour. Can this company be accused of paying substandard wages? Use an α = .01 level test. (Wackerly, Ex.10.18)"
   ]
  },
  {
   "cell_type": "code",
   "execution_count": 32,
   "id": "36ea31b6",
   "metadata": {},
   "outputs": [],
   "source": [
    "# HO : MU = 13.20\n",
    "# H1 : MU < 13.20"
   ]
  },
  {
   "cell_type": "code",
   "execution_count": 33,
   "id": "6d8752d8",
   "metadata": {},
   "outputs": [],
   "source": [
    "x_bar = 12.20\n",
    "n = 40\n",
    "s = 2.5\n",
    "mu = 13.20\n",
    "alpha = 0.01"
   ]
  },
  {
   "cell_type": "code",
   "execution_count": 34,
   "id": "c33351d5",
   "metadata": {},
   "outputs": [],
   "source": [
    "#standart error\n",
    "sem=s/np.sqrt(n)"
   ]
  },
  {
   "cell_type": "code",
   "execution_count": 35,
   "id": "2d462f0f",
   "metadata": {},
   "outputs": [
    {
     "data": {
      "text/plain": [
       "-2.5298221281347035"
      ]
     },
     "execution_count": 35,
     "metadata": {},
     "output_type": "execute_result"
    }
   ],
   "source": [
    "z =  (x_bar - mu) / ( s/np.sqrt(n))\n",
    "z"
   ]
  },
  {
   "cell_type": "code",
   "execution_count": 36,
   "id": "a263abde",
   "metadata": {},
   "outputs": [
    {
     "data": {
      "text/plain": [
       "0.005706018193000826"
      ]
     },
     "execution_count": 36,
     "metadata": {},
     "output_type": "execute_result"
    }
   ],
   "source": [
    "p_value =stats.norm.cdf(z)\n",
    "p_value"
   ]
  },
  {
   "cell_type": "code",
   "execution_count": 37,
   "id": "c6d029a0",
   "metadata": {},
   "outputs": [
    {
     "name": "stdout",
     "output_type": "stream",
     "text": [
      "At 0.01 level of significance, we can reject the null hypothesis in favor of alternative hypothesis.\n"
     ]
    }
   ],
   "source": [
    "if p_value<alpha:\n",
    "    print('At {} level of significance, we can reject the null hypothesis in favor of alternative hypothesis.'.format(alpha))\n",
    "else:\n",
    "    print('At {} level of significance, we fail to reject the null hypothesis.'.format(alpha))"
   ]
  },
  {
   "cell_type": "markdown",
   "id": "8623c28b",
   "metadata": {},
   "source": [
    "# EXERCISE 2.\n",
    "Shear strength measurements derived from unconfined compression tests for two types of soils gave the results shown in the following document (measurements in tons per square foot). Do the soils appear to differ with respect to average shear strength, at the 1% significance level?\n",
    "\n",
    "Results for two type of soils"
   ]
  },
  {
   "cell_type": "code",
   "execution_count": 38,
   "id": "052f90e0",
   "metadata": {},
   "outputs": [
    {
     "data": {
      "text/html": [
       "<div>\n",
       "<style scoped>\n",
       "    .dataframe tbody tr th:only-of-type {\n",
       "        vertical-align: middle;\n",
       "    }\n",
       "\n",
       "    .dataframe tbody tr th {\n",
       "        vertical-align: top;\n",
       "    }\n",
       "\n",
       "    .dataframe thead th {\n",
       "        text-align: right;\n",
       "    }\n",
       "</style>\n",
       "<table border=\"1\" class=\"dataframe\">\n",
       "  <thead>\n",
       "    <tr style=\"text-align: right;\">\n",
       "      <th></th>\n",
       "      <th>Soil1</th>\n",
       "      <th>Soil2</th>\n",
       "    </tr>\n",
       "  </thead>\n",
       "  <tbody>\n",
       "    <tr>\n",
       "      <th>0</th>\n",
       "      <td>1.442</td>\n",
       "      <td>1.364</td>\n",
       "    </tr>\n",
       "    <tr>\n",
       "      <th>1</th>\n",
       "      <td>1.943</td>\n",
       "      <td>1.878</td>\n",
       "    </tr>\n",
       "    <tr>\n",
       "      <th>2</th>\n",
       "      <td>1.110</td>\n",
       "      <td>1.337</td>\n",
       "    </tr>\n",
       "    <tr>\n",
       "      <th>3</th>\n",
       "      <td>1.912</td>\n",
       "      <td>1.828</td>\n",
       "    </tr>\n",
       "    <tr>\n",
       "      <th>4</th>\n",
       "      <td>1.553</td>\n",
       "      <td>1.371</td>\n",
       "    </tr>\n",
       "    <tr>\n",
       "      <th>5</th>\n",
       "      <td>1.641</td>\n",
       "      <td>1.428</td>\n",
       "    </tr>\n",
       "    <tr>\n",
       "      <th>6</th>\n",
       "      <td>1.499</td>\n",
       "      <td>1.119</td>\n",
       "    </tr>\n",
       "    <tr>\n",
       "      <th>7</th>\n",
       "      <td>1.347</td>\n",
       "      <td>1.373</td>\n",
       "    </tr>\n",
       "    <tr>\n",
       "      <th>8</th>\n",
       "      <td>1.685</td>\n",
       "      <td>1.589</td>\n",
       "    </tr>\n",
       "    <tr>\n",
       "      <th>9</th>\n",
       "      <td>1.578</td>\n",
       "      <td>1.714</td>\n",
       "    </tr>\n",
       "    <tr>\n",
       "      <th>10</th>\n",
       "      <td>1.866</td>\n",
       "      <td>1.260</td>\n",
       "    </tr>\n",
       "    <tr>\n",
       "      <th>11</th>\n",
       "      <td>1.653</td>\n",
       "      <td>1.492</td>\n",
       "    </tr>\n",
       "    <tr>\n",
       "      <th>12</th>\n",
       "      <td>1.665</td>\n",
       "      <td>1.395</td>\n",
       "    </tr>\n",
       "    <tr>\n",
       "      <th>13</th>\n",
       "      <td>1.640</td>\n",
       "      <td>1.778</td>\n",
       "    </tr>\n",
       "    <tr>\n",
       "      <th>14</th>\n",
       "      <td>1.976</td>\n",
       "      <td>1.611</td>\n",
       "    </tr>\n",
       "    <tr>\n",
       "      <th>15</th>\n",
       "      <td>1.754</td>\n",
       "      <td>1.202</td>\n",
       "    </tr>\n",
       "    <tr>\n",
       "      <th>16</th>\n",
       "      <td>1.589</td>\n",
       "      <td>1.542</td>\n",
       "    </tr>\n",
       "    <tr>\n",
       "      <th>17</th>\n",
       "      <td>1.976</td>\n",
       "      <td>1.094</td>\n",
       "    </tr>\n",
       "    <tr>\n",
       "      <th>18</th>\n",
       "      <td>1.863</td>\n",
       "      <td>1.557</td>\n",
       "    </tr>\n",
       "    <tr>\n",
       "      <th>19</th>\n",
       "      <td>1.932</td>\n",
       "      <td>1.053</td>\n",
       "    </tr>\n",
       "    <tr>\n",
       "      <th>20</th>\n",
       "      <td>1.570</td>\n",
       "      <td>1.183</td>\n",
       "    </tr>\n",
       "    <tr>\n",
       "      <th>21</th>\n",
       "      <td>1.613</td>\n",
       "      <td>1.367</td>\n",
       "    </tr>\n",
       "    <tr>\n",
       "      <th>22</th>\n",
       "      <td>2.054</td>\n",
       "      <td>1.144</td>\n",
       "    </tr>\n",
       "    <tr>\n",
       "      <th>23</th>\n",
       "      <td>1.550</td>\n",
       "      <td>1.151</td>\n",
       "    </tr>\n",
       "    <tr>\n",
       "      <th>24</th>\n",
       "      <td>1.714</td>\n",
       "      <td>1.561</td>\n",
       "    </tr>\n",
       "    <tr>\n",
       "      <th>25</th>\n",
       "      <td>1.896</td>\n",
       "      <td>1.192</td>\n",
       "    </tr>\n",
       "    <tr>\n",
       "      <th>26</th>\n",
       "      <td>1.737</td>\n",
       "      <td>1.489</td>\n",
       "    </tr>\n",
       "    <tr>\n",
       "      <th>27</th>\n",
       "      <td>1.740</td>\n",
       "      <td>1.379</td>\n",
       "    </tr>\n",
       "    <tr>\n",
       "      <th>28</th>\n",
       "      <td>1.708</td>\n",
       "      <td>1.501</td>\n",
       "    </tr>\n",
       "    <tr>\n",
       "      <th>29</th>\n",
       "      <td>1.548</td>\n",
       "      <td>1.277</td>\n",
       "    </tr>\n",
       "    <tr>\n",
       "      <th>30</th>\n",
       "      <td>NaN</td>\n",
       "      <td>1.593</td>\n",
       "    </tr>\n",
       "    <tr>\n",
       "      <th>31</th>\n",
       "      <td>NaN</td>\n",
       "      <td>1.172</td>\n",
       "    </tr>\n",
       "    <tr>\n",
       "      <th>32</th>\n",
       "      <td>NaN</td>\n",
       "      <td>1.510</td>\n",
       "    </tr>\n",
       "    <tr>\n",
       "      <th>33</th>\n",
       "      <td>NaN</td>\n",
       "      <td>1.740</td>\n",
       "    </tr>\n",
       "    <tr>\n",
       "      <th>34</th>\n",
       "      <td>NaN</td>\n",
       "      <td>1.355</td>\n",
       "    </tr>\n",
       "  </tbody>\n",
       "</table>\n",
       "</div>"
      ],
      "text/plain": [
       "    Soil1  Soil2\n",
       "0   1.442  1.364\n",
       "1   1.943  1.878\n",
       "2   1.110  1.337\n",
       "3   1.912  1.828\n",
       "4   1.553  1.371\n",
       "5   1.641  1.428\n",
       "6   1.499  1.119\n",
       "7   1.347  1.373\n",
       "8   1.685  1.589\n",
       "9   1.578  1.714\n",
       "10  1.866  1.260\n",
       "11  1.653  1.492\n",
       "12  1.665  1.395\n",
       "13  1.640  1.778\n",
       "14  1.976  1.611\n",
       "15  1.754  1.202\n",
       "16  1.589  1.542\n",
       "17  1.976  1.094\n",
       "18  1.863  1.557\n",
       "19  1.932  1.053\n",
       "20  1.570  1.183\n",
       "21  1.613  1.367\n",
       "22  2.054  1.144\n",
       "23  1.550  1.151\n",
       "24  1.714  1.561\n",
       "25  1.896  1.192\n",
       "26  1.737  1.489\n",
       "27  1.740  1.379\n",
       "28  1.708  1.501\n",
       "29  1.548  1.277\n",
       "30    NaN  1.593\n",
       "31    NaN  1.172\n",
       "32    NaN  1.510\n",
       "33    NaN  1.740\n",
       "34    NaN  1.355"
      ]
     },
     "execution_count": 38,
     "metadata": {},
     "output_type": "execute_result"
    }
   ],
   "source": [
    "soil= pd.read_csv(\"soil - Sheet1.csv\")\n",
    "soil"
   ]
  },
  {
   "cell_type": "code",
   "execution_count": 39,
   "id": "24734db2",
   "metadata": {},
   "outputs": [],
   "source": [
    "# HO : MU1 = MU2\n",
    "# H1 : MU =! MU2"
   ]
  },
  {
   "cell_type": "code",
   "execution_count": 40,
   "id": "8b3b188b",
   "metadata": {},
   "outputs": [
    {
     "data": {
      "text/plain": [
       "1.6918"
      ]
     },
     "execution_count": 40,
     "metadata": {},
     "output_type": "execute_result"
    }
   ],
   "source": [
    "x_bar1=soil[\"Soil1\"].mean()\n",
    "x_bar1"
   ]
  },
  {
   "cell_type": "code",
   "execution_count": 41,
   "id": "3a167fbe",
   "metadata": {},
   "outputs": [
    {
     "data": {
      "text/plain": [
       "1.4171142857142855"
      ]
     },
     "execution_count": 41,
     "metadata": {},
     "output_type": "execute_result"
    }
   ],
   "source": [
    "x_bar2=soil[\"Soil2\"].mean()\n",
    "x_bar2"
   ]
  },
  {
   "cell_type": "code",
   "execution_count": 42,
   "id": "680e83e1",
   "metadata": {},
   "outputs": [
    {
     "data": {
      "text/plain": [
       "Ttest_indResult(statistic=5.1681473319343345, pvalue=2.593228732352821e-06)"
      ]
     },
     "execution_count": 42,
     "metadata": {},
     "output_type": "execute_result"
    }
   ],
   "source": [
    "indTest=stats.ttest_ind(soil.Soil1.dropna() ,soil.Soil2)\n",
    "#Indtest = stats.ttest_ind(soil.Soil1,soil.Soil2,nan_policy=\"omit\")\n",
    "indTest"
   ]
  },
  {
   "cell_type": "code",
   "execution_count": 43,
   "id": "685bbc38",
   "metadata": {},
   "outputs": [
    {
     "name": "stdout",
     "output_type": "stream",
     "text": [
      "Reject the Null\n"
     ]
    }
   ],
   "source": [
    "alpha = 0.01\n",
    "\n",
    "if indTest.pvalue < alpha:\n",
    "    print(\"Reject the Null\")\n",
    "else:\n",
    "    print(\"Fail to reject\")"
   ]
  },
  {
   "cell_type": "markdown",
   "id": "af7a5042",
   "metadata": {},
   "source": [
    "# EXERCISE 3.\n",
    "The following dataset is based on data provided by the World Bank (https://datacatalog.worldbank.org/dataset/education-statistics). World Bank Edstats.  2015 PISA Test Dataset\n",
    "\n",
    "1)Get descriptive statistics (the central tendency, dispersion and shape of a dataset’s distribution) for each continent group (AS, EU, AF, NA, SA, OC).\n",
    "\n",
    "2)Determine whether there is any difference (on the average) for the math scores among European (EU) and Asian (AS) countries (assume normality and equal variances). Draw side-by-side box plots."
   ]
  },
  {
   "cell_type": "code",
   "execution_count": 44,
   "id": "646a4b54",
   "metadata": {},
   "outputs": [
    {
     "data": {
      "text/html": [
       "<div>\n",
       "<style scoped>\n",
       "    .dataframe tbody tr th:only-of-type {\n",
       "        vertical-align: middle;\n",
       "    }\n",
       "\n",
       "    .dataframe tbody tr th {\n",
       "        vertical-align: top;\n",
       "    }\n",
       "\n",
       "    .dataframe thead th {\n",
       "        text-align: right;\n",
       "    }\n",
       "</style>\n",
       "<table border=\"1\" class=\"dataframe\">\n",
       "  <thead>\n",
       "    <tr style=\"text-align: right;\">\n",
       "      <th></th>\n",
       "      <th>Country Code</th>\n",
       "      <th>Continent_Code</th>\n",
       "      <th>internet_users_per_100</th>\n",
       "      <th>Math</th>\n",
       "      <th>Reading</th>\n",
       "      <th>Science</th>\n",
       "    </tr>\n",
       "  </thead>\n",
       "  <tbody>\n",
       "    <tr>\n",
       "      <th>0</th>\n",
       "      <td>ALB</td>\n",
       "      <td>EU</td>\n",
       "      <td>63.252933</td>\n",
       "      <td>413.1570</td>\n",
       "      <td>405.2588</td>\n",
       "      <td>427.2250</td>\n",
       "    </tr>\n",
       "    <tr>\n",
       "      <th>1</th>\n",
       "      <td>ARE</td>\n",
       "      <td>AS</td>\n",
       "      <td>90.500000</td>\n",
       "      <td>427.4827</td>\n",
       "      <td>433.5423</td>\n",
       "      <td>436.7311</td>\n",
       "    </tr>\n",
       "    <tr>\n",
       "      <th>2</th>\n",
       "      <td>ARG</td>\n",
       "      <td>SA</td>\n",
       "      <td>68.043064</td>\n",
       "      <td>409.0333</td>\n",
       "      <td>425.3031</td>\n",
       "      <td>432.2262</td>\n",
       "    </tr>\n",
       "    <tr>\n",
       "      <th>3</th>\n",
       "      <td>AUS</td>\n",
       "      <td>OC</td>\n",
       "      <td>84.560519</td>\n",
       "      <td>493.8962</td>\n",
       "      <td>502.9006</td>\n",
       "      <td>509.9939</td>\n",
       "    </tr>\n",
       "    <tr>\n",
       "      <th>4</th>\n",
       "      <td>AUT</td>\n",
       "      <td>EU</td>\n",
       "      <td>83.940142</td>\n",
       "      <td>496.7423</td>\n",
       "      <td>484.8656</td>\n",
       "      <td>495.0375</td>\n",
       "    </tr>\n",
       "  </tbody>\n",
       "</table>\n",
       "</div>"
      ],
      "text/plain": [
       "  Country Code Continent_Code  internet_users_per_100      Math   Reading  \\\n",
       "0          ALB             EU               63.252933  413.1570  405.2588   \n",
       "1          ARE             AS               90.500000  427.4827  433.5423   \n",
       "2          ARG             SA               68.043064  409.0333  425.3031   \n",
       "3          AUS             OC               84.560519  493.8962  502.9006   \n",
       "4          AUT             EU               83.940142  496.7423  484.8656   \n",
       "\n",
       "    Science  \n",
       "0  427.2250  \n",
       "1  436.7311  \n",
       "2  432.2262  \n",
       "3  509.9939  \n",
       "4  495.0375  "
      ]
     },
     "execution_count": 44,
     "metadata": {},
     "output_type": "execute_result"
    }
   ],
   "source": [
    "pisa= pd.read_csv(\"2015 PISA Test - Sheet1.csv\")\n",
    "pisa.head()"
   ]
  },
  {
   "cell_type": "code",
   "execution_count": 45,
   "id": "40febd40",
   "metadata": {},
   "outputs": [
    {
     "data": {
      "text/plain": [
       "(70, 6)"
      ]
     },
     "execution_count": 45,
     "metadata": {},
     "output_type": "execute_result"
    }
   ],
   "source": [
    "pisa.shape"
   ]
  },
  {
   "cell_type": "code",
   "execution_count": 46,
   "id": "49dc8e32",
   "metadata": {},
   "outputs": [
    {
     "name": "stdout",
     "output_type": "stream",
     "text": [
      "<class 'pandas.core.frame.DataFrame'>\n",
      "RangeIndex: 70 entries, 0 to 69\n",
      "Data columns (total 6 columns):\n",
      " #   Column                  Non-Null Count  Dtype  \n",
      "---  ------                  --------------  -----  \n",
      " 0   Country Code            70 non-null     object \n",
      " 1   Continent_Code          65 non-null     object \n",
      " 2   internet_users_per_100  70 non-null     float64\n",
      " 3   Math                    70 non-null     float64\n",
      " 4   Reading                 70 non-null     float64\n",
      " 5   Science                 70 non-null     float64\n",
      "dtypes: float64(4), object(2)\n",
      "memory usage: 3.4+ KB\n"
     ]
    }
   ],
   "source": [
    "pisa.info()"
   ]
  },
  {
   "cell_type": "code",
   "execution_count": 47,
   "id": "03bfc40f",
   "metadata": {},
   "outputs": [
    {
     "data": {
      "text/html": [
       "<div>\n",
       "<style scoped>\n",
       "    .dataframe tbody tr th:only-of-type {\n",
       "        vertical-align: middle;\n",
       "    }\n",
       "\n",
       "    .dataframe tbody tr th {\n",
       "        vertical-align: top;\n",
       "    }\n",
       "\n",
       "    .dataframe thead th {\n",
       "        text-align: right;\n",
       "    }\n",
       "</style>\n",
       "<table border=\"1\" class=\"dataframe\">\n",
       "  <thead>\n",
       "    <tr style=\"text-align: right;\">\n",
       "      <th></th>\n",
       "      <th>count</th>\n",
       "      <th>mean</th>\n",
       "      <th>std</th>\n",
       "      <th>min</th>\n",
       "      <th>25%</th>\n",
       "      <th>50%</th>\n",
       "      <th>75%</th>\n",
       "      <th>max</th>\n",
       "    </tr>\n",
       "  </thead>\n",
       "  <tbody>\n",
       "    <tr>\n",
       "      <th>internet_users_per_100</th>\n",
       "      <td>70.0</td>\n",
       "      <td>71.973099</td>\n",
       "      <td>16.390632</td>\n",
       "      <td>21.976068</td>\n",
       "      <td>60.899020</td>\n",
       "      <td>72.99935</td>\n",
       "      <td>85.026763</td>\n",
       "      <td>98.2000</td>\n",
       "    </tr>\n",
       "    <tr>\n",
       "      <th>Math</th>\n",
       "      <td>70.0</td>\n",
       "      <td>460.971557</td>\n",
       "      <td>53.327205</td>\n",
       "      <td>327.702000</td>\n",
       "      <td>417.416075</td>\n",
       "      <td>477.60715</td>\n",
       "      <td>500.482925</td>\n",
       "      <td>564.1897</td>\n",
       "    </tr>\n",
       "    <tr>\n",
       "      <th>Reading</th>\n",
       "      <td>70.0</td>\n",
       "      <td>460.997291</td>\n",
       "      <td>49.502679</td>\n",
       "      <td>346.549000</td>\n",
       "      <td>426.948625</td>\n",
       "      <td>480.19985</td>\n",
       "      <td>499.687475</td>\n",
       "      <td>535.1002</td>\n",
       "    </tr>\n",
       "    <tr>\n",
       "      <th>Science</th>\n",
       "      <td>70.0</td>\n",
       "      <td>465.439093</td>\n",
       "      <td>48.397254</td>\n",
       "      <td>331.638800</td>\n",
       "      <td>425.923375</td>\n",
       "      <td>475.40005</td>\n",
       "      <td>502.431250</td>\n",
       "      <td>555.5747</td>\n",
       "    </tr>\n",
       "  </tbody>\n",
       "</table>\n",
       "</div>"
      ],
      "text/plain": [
       "                        count        mean        std         min         25%  \\\n",
       "internet_users_per_100   70.0   71.973099  16.390632   21.976068   60.899020   \n",
       "Math                     70.0  460.971557  53.327205  327.702000  417.416075   \n",
       "Reading                  70.0  460.997291  49.502679  346.549000  426.948625   \n",
       "Science                  70.0  465.439093  48.397254  331.638800  425.923375   \n",
       "\n",
       "                              50%         75%       max  \n",
       "internet_users_per_100   72.99935   85.026763   98.2000  \n",
       "Math                    477.60715  500.482925  564.1897  \n",
       "Reading                 480.19985  499.687475  535.1002  \n",
       "Science                 475.40005  502.431250  555.5747  "
      ]
     },
     "execution_count": 47,
     "metadata": {},
     "output_type": "execute_result"
    }
   ],
   "source": [
    "pisa.describe().T"
   ]
  },
  {
   "cell_type": "code",
   "execution_count": 48,
   "id": "836103b9",
   "metadata": {
    "scrolled": true
   },
   "outputs": [
    {
     "data": {
      "text/html": [
       "<div>\n",
       "<style scoped>\n",
       "    .dataframe tbody tr th:only-of-type {\n",
       "        vertical-align: middle;\n",
       "    }\n",
       "\n",
       "    .dataframe tbody tr th {\n",
       "        vertical-align: top;\n",
       "    }\n",
       "\n",
       "    .dataframe thead th {\n",
       "        text-align: right;\n",
       "    }\n",
       "</style>\n",
       "<table border=\"1\" class=\"dataframe\">\n",
       "  <thead>\n",
       "    <tr style=\"text-align: right;\">\n",
       "      <th></th>\n",
       "      <th>count</th>\n",
       "      <th>unique</th>\n",
       "      <th>top</th>\n",
       "      <th>freq</th>\n",
       "    </tr>\n",
       "  </thead>\n",
       "  <tbody>\n",
       "    <tr>\n",
       "      <th>Country Code</th>\n",
       "      <td>70</td>\n",
       "      <td>70</td>\n",
       "      <td>ALB</td>\n",
       "      <td>1</td>\n",
       "    </tr>\n",
       "    <tr>\n",
       "      <th>Continent_Code</th>\n",
       "      <td>65</td>\n",
       "      <td>5</td>\n",
       "      <td>EU</td>\n",
       "      <td>37</td>\n",
       "    </tr>\n",
       "  </tbody>\n",
       "</table>\n",
       "</div>"
      ],
      "text/plain": [
       "               count unique  top freq\n",
       "Country Code      70     70  ALB    1\n",
       "Continent_Code    65      5   EU   37"
      ]
     },
     "execution_count": 48,
     "metadata": {},
     "output_type": "execute_result"
    }
   ],
   "source": [
    "pisa.describe(include=\"O\").T"
   ]
  },
  {
   "cell_type": "code",
   "execution_count": 49,
   "id": "d8607212",
   "metadata": {
    "scrolled": true
   },
   "outputs": [
    {
     "data": {
      "text/plain": [
       "False    70\n",
       "dtype: int64"
      ]
     },
     "execution_count": 49,
     "metadata": {},
     "output_type": "execute_result"
    }
   ],
   "source": [
    "pisa.duplicated().value_counts()"
   ]
  },
  {
   "cell_type": "code",
   "execution_count": 50,
   "id": "f0aedde6",
   "metadata": {
    "scrolled": true
   },
   "outputs": [
    {
     "data": {
      "text/plain": [
       "Country Code              0\n",
       "Continent_Code            5\n",
       "internet_users_per_100    0\n",
       "Math                      0\n",
       "Reading                   0\n",
       "Science                   0\n",
       "dtype: int64"
      ]
     },
     "execution_count": 50,
     "metadata": {},
     "output_type": "execute_result"
    }
   ],
   "source": [
    "pisa.isnull().sum()"
   ]
  },
  {
   "cell_type": "code",
   "execution_count": 51,
   "id": "e91e2ca6",
   "metadata": {
    "scrolled": true
   },
   "outputs": [
    {
     "data": {
      "text/plain": [
       "EU     37\n",
       "AS     17\n",
       "SA      7\n",
       "NaN     5\n",
       "OC      2\n",
       "AF      2\n",
       "Name: Continent_Code, dtype: int64"
      ]
     },
     "execution_count": 51,
     "metadata": {},
     "output_type": "execute_result"
    }
   ],
   "source": [
    "pisa[\"Continent_Code\"].value_counts(dropna=False)"
   ]
  },
  {
   "cell_type": "code",
   "execution_count": 52,
   "id": "9b9f261b",
   "metadata": {
    "scrolled": false
   },
   "outputs": [
    {
     "data": {
      "image/png": "[encoded data removed]",
      "text/plain": [
       "<Figure size 864x576 with 1 Axes>"
      ]
     },
     "metadata": {
      "needs_background": "light"
     },
     "output_type": "display_data"
    }
   ],
   "source": [
    "plt.figure(figsize = (12,8))\n",
    "sns.boxplot(y= pisa.Math, x= pisa.Continent_Code);"
   ]
  },
  {
   "cell_type": "code",
   "execution_count": 53,
   "id": "a5e4fdea",
   "metadata": {
    "scrolled": false
   },
   "outputs": [
    {
     "data": {
      "text/plain": [
       "0     413.1570\n",
       "4     496.7423\n",
       "5     506.9844\n",
       "6     441.1899\n",
       "9     521.2506\n",
       "14    437.1443\n",
       "15    492.3254\n",
       "16    505.9713\n",
       "17    511.0876\n",
       "20    485.8432\n",
       "21    519.5291\n",
       "22    511.0769\n",
       "23    492.9204\n",
       "24    492.4785\n",
       "26    453.6299\n",
       "28    464.0401\n",
       "29    476.8309\n",
       "31    503.7220\n",
       "32    488.0332\n",
       "34    489.7287\n",
       "40    478.3834\n",
       "41    485.7706\n",
       "42    482.3051\n",
       "44    419.6635\n",
       "46    371.3114\n",
       "47    478.6448\n",
       "48    417.9341\n",
       "50    512.2528\n",
       "51    501.7298\n",
       "54    504.4693\n",
       "55    491.6270\n",
       "57    443.9543\n",
       "58    494.0600\n",
       "60    475.2301\n",
       "61    509.9196\n",
       "62    493.9181\n",
       "66    420.4540\n",
       "Name: Math, dtype: float64"
      ]
     },
     "execution_count": 53,
     "metadata": {},
     "output_type": "execute_result"
    }
   ],
   "source": [
    "pisa[pisa[\"Continent_Code\"]==\"EU\"][\"Math\"]"
   ]
  },
  {
   "cell_type": "code",
   "execution_count": 54,
   "id": "3aeeefd3",
   "metadata": {},
   "outputs": [
    {
     "data": {
      "image/png": "[encoded data removed]",
      "text/plain": [
       "<Figure size 720x432 with 1 Axes>"
      ]
     },
     "metadata": {
      "needs_background": "light"
     },
     "output_type": "display_data"
    }
   ],
   "source": [
    "plt.figure(figsize=(10,6))\n",
    "\n",
    "sns.boxplot(y=pisa[pisa[\"Continent_Code\"]==\"EU\"][\"Math\"]);"
   ]
  },
  {
   "cell_type": "code",
   "execution_count": 55,
   "id": "2b7d18a9",
   "metadata": {
    "scrolled": true
   },
   "outputs": [
    {
     "data": {
      "text/plain": [
       "1     427.4827\n",
       "11    531.2961\n",
       "25    403.8332\n",
       "27    547.9310\n",
       "30    386.1096\n",
       "33    469.6695\n",
       "35    380.2590\n",
       "36    532.4399\n",
       "37    459.8160\n",
       "38    524.1062\n",
       "39    396.2497\n",
       "43    543.8078\n",
       "49    446.1098\n",
       "56    402.4007\n",
       "59    564.1897\n",
       "63    415.4638\n",
       "69    494.5183\n",
       "Name: Math, dtype: float64"
      ]
     },
     "execution_count": 55,
     "metadata": {},
     "output_type": "execute_result"
    }
   ],
   "source": [
    "pisa[pisa[\"Continent_Code\"]==\"AS\"][\"Math\"]"
   ]
  },
  {
   "cell_type": "code",
   "execution_count": 56,
   "id": "847a82c5",
   "metadata": {
    "scrolled": false
   },
   "outputs": [
    {
     "data": {
      "text/plain": [
       "<AxesSubplot:ylabel='Math'>"
      ]
     },
     "execution_count": 56,
     "metadata": {},
     "output_type": "execute_result"
    },
    {
     "data": {
      "image/png": "[encoded data removed]",
      "text/plain": [
       "<Figure size 720x432 with 1 Axes>"
      ]
     },
     "metadata": {
      "needs_background": "light"
     },
     "output_type": "display_data"
    }
   ],
   "source": [
    "plt.figure(figsize=(10,6))\n",
    "\n",
    "sns.boxplot(y=pisa[pisa[\"Continent_Code\"]==\"AS\"][\"Math\"])"
   ]
  },
  {
   "cell_type": "code",
   "execution_count": 57,
   "id": "459c97e6",
   "metadata": {},
   "outputs": [
    {
     "data": {
      "text/plain": [
       "Ttest_indResult(statistic=0.870055317967983, pvalue=0.38826888111307345)"
      ]
     },
     "execution_count": 57,
     "metadata": {},
     "output_type": "execute_result"
    }
   ],
   "source": [
    "indTest = stats.ttest_ind(pisa[pisa[\"Continent_Code\"]==\"EU\"][\"Math\"],pisa[pisa[\"Continent_Code\"]==\"AS\"][\"Math\"])\n",
    "indTest"
   ]
  },
  {
   "cell_type": "code",
   "execution_count": 58,
   "id": "a31aac8e",
   "metadata": {},
   "outputs": [
    {
     "name": "stdout",
     "output_type": "stream",
     "text": [
      "Fail to reject\n"
     ]
    }
   ],
   "source": [
    "alpha = 0.01\n",
    "\n",
    "if indTest.pvalue < alpha:\n",
    "    print(\"Reject the Null\")\n",
    "else:\n",
    "    print(\"Fail to reject\")"
   ]
  },
  {
   "cell_type": "markdown",
   "id": "0461d96c",
   "metadata": {},
   "source": [
    "# EXERCISE 4. \n",
    "A gym operator organized a 2-month exercise and diet program for 15 customers suffering from their excess weight. To evaluate whether this diet program was effective, he measured the customers' starting and ending weights and recorded them in the computer. Did the exercise and diet program have an impact on customers' weight loss? Use an α = .01 level test.  Weight Dataset"
   ]
  },
  {
   "cell_type": "code",
   "execution_count": 78,
   "id": "bd0d7eb2",
   "metadata": {
    "scrolled": true
   },
   "outputs": [
    {
     "data": {
      "text/html": [
       "<div>\n",
       "<style scoped>\n",
       "    .dataframe tbody tr th:only-of-type {\n",
       "        vertical-align: middle;\n",
       "    }\n",
       "\n",
       "    .dataframe tbody tr th {\n",
       "        vertical-align: top;\n",
       "    }\n",
       "\n",
       "    .dataframe thead th {\n",
       "        text-align: right;\n",
       "    }\n",
       "</style>\n",
       "<table border=\"1\" class=\"dataframe\">\n",
       "  <thead>\n",
       "    <tr style=\"text-align: right;\">\n",
       "      <th></th>\n",
       "      <th>ID</th>\n",
       "      <th>starting</th>\n",
       "      <th>ending</th>\n",
       "      <th>Unnamed: 3</th>\n",
       "      <th>Unnamed: 4</th>\n",
       "      <th>Unnamed: 5</th>\n",
       "      <th>Unnamed: 6</th>\n",
       "      <th>Unnamed: 7</th>\n",
       "      <th>Unnamed: 8</th>\n",
       "      <th>Unnamed: 9</th>\n",
       "      <th>Unnamed: 10</th>\n",
       "      <th>Unnamed: 11</th>\n",
       "      <th>Unnamed: 12</th>\n",
       "      <th>Unnamed: 13</th>\n",
       "      <th>Unnamed: 14</th>\n",
       "      <th>Unnamed: 15</th>\n",
       "      <th>Unnamed: 16</th>\n",
       "      <th>Unnamed: 17</th>\n",
       "      <th>Unnamed: 18</th>\n",
       "    </tr>\n",
       "  </thead>\n",
       "  <tbody>\n",
       "    <tr>\n",
       "      <th>0</th>\n",
       "      <td>1.0</td>\n",
       "      <td>76.0</td>\n",
       "      <td>72.0</td>\n",
       "      <td>NaN</td>\n",
       "      <td>NaN</td>\n",
       "      <td>NaN</td>\n",
       "      <td>NaN</td>\n",
       "      <td>NaN</td>\n",
       "      <td>NaN</td>\n",
       "      <td>NaN</td>\n",
       "      <td>NaN</td>\n",
       "      <td>NaN</td>\n",
       "      <td>NaN</td>\n",
       "      <td>NaN</td>\n",
       "      <td>NaN</td>\n",
       "      <td>NaN</td>\n",
       "      <td>NaN</td>\n",
       "      <td>NaN</td>\n",
       "      <td>NaN</td>\n",
       "    </tr>\n",
       "    <tr>\n",
       "      <th>1</th>\n",
       "      <td>2.0</td>\n",
       "      <td>81.0</td>\n",
       "      <td>82.0</td>\n",
       "      <td>NaN</td>\n",
       "      <td>NaN</td>\n",
       "      <td>NaN</td>\n",
       "      <td>NaN</td>\n",
       "      <td>NaN</td>\n",
       "      <td>NaN</td>\n",
       "      <td>NaN</td>\n",
       "      <td>NaN</td>\n",
       "      <td>NaN</td>\n",
       "      <td>NaN</td>\n",
       "      <td>NaN</td>\n",
       "      <td>NaN</td>\n",
       "      <td>NaN</td>\n",
       "      <td>NaN</td>\n",
       "      <td>NaN</td>\n",
       "      <td>NaN</td>\n",
       "    </tr>\n",
       "    <tr>\n",
       "      <th>2</th>\n",
       "      <td>3.0</td>\n",
       "      <td>86.0</td>\n",
       "      <td>84.0</td>\n",
       "      <td>NaN</td>\n",
       "      <td>NaN</td>\n",
       "      <td>NaN</td>\n",
       "      <td>NaN</td>\n",
       "      <td>NaN</td>\n",
       "      <td>NaN</td>\n",
       "      <td>NaN</td>\n",
       "      <td>NaN</td>\n",
       "      <td>NaN</td>\n",
       "      <td>NaN</td>\n",
       "      <td>NaN</td>\n",
       "      <td>NaN</td>\n",
       "      <td>NaN</td>\n",
       "      <td>NaN</td>\n",
       "      <td>NaN</td>\n",
       "      <td>NaN</td>\n",
       "    </tr>\n",
       "    <tr>\n",
       "      <th>3</th>\n",
       "      <td>4.0</td>\n",
       "      <td>71.0</td>\n",
       "      <td>71.0</td>\n",
       "      <td>NaN</td>\n",
       "      <td>NaN</td>\n",
       "      <td>NaN</td>\n",
       "      <td>NaN</td>\n",
       "      <td>NaN</td>\n",
       "      <td>NaN</td>\n",
       "      <td>NaN</td>\n",
       "      <td>NaN</td>\n",
       "      <td>NaN</td>\n",
       "      <td>NaN</td>\n",
       "      <td>NaN</td>\n",
       "      <td>NaN</td>\n",
       "      <td>NaN</td>\n",
       "      <td>NaN</td>\n",
       "      <td>NaN</td>\n",
       "      <td>NaN</td>\n",
       "    </tr>\n",
       "    <tr>\n",
       "      <th>4</th>\n",
       "      <td>5.0</td>\n",
       "      <td>88.0</td>\n",
       "      <td>83.0</td>\n",
       "      <td>NaN</td>\n",
       "      <td>NaN</td>\n",
       "      <td>NaN</td>\n",
       "      <td>NaN</td>\n",
       "      <td>NaN</td>\n",
       "      <td>NaN</td>\n",
       "      <td>NaN</td>\n",
       "      <td>NaN</td>\n",
       "      <td>NaN</td>\n",
       "      <td>NaN</td>\n",
       "      <td>NaN</td>\n",
       "      <td>NaN</td>\n",
       "      <td>NaN</td>\n",
       "      <td>NaN</td>\n",
       "      <td>NaN</td>\n",
       "      <td>NaN</td>\n",
       "    </tr>\n",
       "    <tr>\n",
       "      <th>5</th>\n",
       "      <td>6.0</td>\n",
       "      <td>78.0</td>\n",
       "      <td>74.0</td>\n",
       "      <td>NaN</td>\n",
       "      <td>NaN</td>\n",
       "      <td>NaN</td>\n",
       "      <td>NaN</td>\n",
       "      <td>NaN</td>\n",
       "      <td>NaN</td>\n",
       "      <td>NaN</td>\n",
       "      <td>NaN</td>\n",
       "      <td>NaN</td>\n",
       "      <td>NaN</td>\n",
       "      <td>NaN</td>\n",
       "      <td>NaN</td>\n",
       "      <td>NaN</td>\n",
       "      <td>NaN</td>\n",
       "      <td>NaN</td>\n",
       "      <td>NaN</td>\n",
       "    </tr>\n",
       "    <tr>\n",
       "      <th>6</th>\n",
       "      <td>7.0</td>\n",
       "      <td>76.0</td>\n",
       "      <td>70.0</td>\n",
       "      <td>NaN</td>\n",
       "      <td>NaN</td>\n",
       "      <td>NaN</td>\n",
       "      <td>NaN</td>\n",
       "      <td>NaN</td>\n",
       "      <td>NaN</td>\n",
       "      <td>NaN</td>\n",
       "      <td>NaN</td>\n",
       "      <td>NaN</td>\n",
       "      <td>NaN</td>\n",
       "      <td>NaN</td>\n",
       "      <td>NaN</td>\n",
       "      <td>NaN</td>\n",
       "      <td>NaN</td>\n",
       "      <td>NaN</td>\n",
       "      <td>NaN</td>\n",
       "    </tr>\n",
       "    <tr>\n",
       "      <th>7</th>\n",
       "      <td>8.0</td>\n",
       "      <td>81.0</td>\n",
       "      <td>80.0</td>\n",
       "      <td>NaN</td>\n",
       "      <td>NaN</td>\n",
       "      <td>NaN</td>\n",
       "      <td>NaN</td>\n",
       "      <td>NaN</td>\n",
       "      <td>NaN</td>\n",
       "      <td>NaN</td>\n",
       "      <td>NaN</td>\n",
       "      <td>NaN</td>\n",
       "      <td>NaN</td>\n",
       "      <td>NaN</td>\n",
       "      <td>NaN</td>\n",
       "      <td>NaN</td>\n",
       "      <td>NaN</td>\n",
       "      <td>NaN</td>\n",
       "      <td>NaN</td>\n",
       "    </tr>\n",
       "    <tr>\n",
       "      <th>8</th>\n",
       "      <td>9.0</td>\n",
       "      <td>79.0</td>\n",
       "      <td>78.0</td>\n",
       "      <td>NaN</td>\n",
       "      <td>NaN</td>\n",
       "      <td>NaN</td>\n",
       "      <td>NaN</td>\n",
       "      <td>NaN</td>\n",
       "      <td>NaN</td>\n",
       "      <td>NaN</td>\n",
       "      <td>NaN</td>\n",
       "      <td>NaN</td>\n",
       "      <td>NaN</td>\n",
       "      <td>NaN</td>\n",
       "      <td>NaN</td>\n",
       "      <td>NaN</td>\n",
       "      <td>NaN</td>\n",
       "      <td>NaN</td>\n",
       "      <td>NaN</td>\n",
       "    </tr>\n",
       "    <tr>\n",
       "      <th>9</th>\n",
       "      <td>10.0</td>\n",
       "      <td>77.0</td>\n",
       "      <td>79.0</td>\n",
       "      <td>NaN</td>\n",
       "      <td>NaN</td>\n",
       "      <td>NaN</td>\n",
       "      <td>NaN</td>\n",
       "      <td>NaN</td>\n",
       "      <td>NaN</td>\n",
       "      <td>NaN</td>\n",
       "      <td>NaN</td>\n",
       "      <td>NaN</td>\n",
       "      <td>NaN</td>\n",
       "      <td>NaN</td>\n",
       "      <td>NaN</td>\n",
       "      <td>NaN</td>\n",
       "      <td>NaN</td>\n",
       "      <td>NaN</td>\n",
       "      <td>NaN</td>\n",
       "    </tr>\n",
       "    <tr>\n",
       "      <th>10</th>\n",
       "      <td>11.0</td>\n",
       "      <td>83.0</td>\n",
       "      <td>80.0</td>\n",
       "      <td>NaN</td>\n",
       "      <td>NaN</td>\n",
       "      <td>NaN</td>\n",
       "      <td>NaN</td>\n",
       "      <td>NaN</td>\n",
       "      <td>NaN</td>\n",
       "      <td>NaN</td>\n",
       "      <td>NaN</td>\n",
       "      <td>NaN</td>\n",
       "      <td>NaN</td>\n",
       "      <td>NaN</td>\n",
       "      <td>NaN</td>\n",
       "      <td>NaN</td>\n",
       "      <td>NaN</td>\n",
       "      <td>NaN</td>\n",
       "      <td>NaN</td>\n",
       "    </tr>\n",
       "    <tr>\n",
       "      <th>11</th>\n",
       "      <td>12.0</td>\n",
       "      <td>77.0</td>\n",
       "      <td>76.0</td>\n",
       "      <td>NaN</td>\n",
       "      <td>NaN</td>\n",
       "      <td>NaN</td>\n",
       "      <td>NaN</td>\n",
       "      <td>NaN</td>\n",
       "      <td>NaN</td>\n",
       "      <td>NaN</td>\n",
       "      <td>NaN</td>\n",
       "      <td>NaN</td>\n",
       "      <td>NaN</td>\n",
       "      <td>NaN</td>\n",
       "      <td>NaN</td>\n",
       "      <td>NaN</td>\n",
       "      <td>NaN</td>\n",
       "      <td>NaN</td>\n",
       "      <td>NaN</td>\n",
       "    </tr>\n",
       "    <tr>\n",
       "      <th>12</th>\n",
       "      <td>13.0</td>\n",
       "      <td>79.0</td>\n",
       "      <td>77.0</td>\n",
       "      <td>NaN</td>\n",
       "      <td>NaN</td>\n",
       "      <td>NaN</td>\n",
       "      <td>NaN</td>\n",
       "      <td>NaN</td>\n",
       "      <td>NaN</td>\n",
       "      <td>NaN</td>\n",
       "      <td>NaN</td>\n",
       "      <td>NaN</td>\n",
       "      <td>NaN</td>\n",
       "      <td>NaN</td>\n",
       "      <td>NaN</td>\n",
       "      <td>NaN</td>\n",
       "      <td>NaN</td>\n",
       "      <td>NaN</td>\n",
       "      <td>NaN</td>\n",
       "    </tr>\n",
       "    <tr>\n",
       "      <th>13</th>\n",
       "      <td>14.0</td>\n",
       "      <td>81.0</td>\n",
       "      <td>83.0</td>\n",
       "      <td>NaN</td>\n",
       "      <td>NaN</td>\n",
       "      <td>#ERROR!</td>\n",
       "      <td>NaN</td>\n",
       "      <td>NaN</td>\n",
       "      <td>NaN</td>\n",
       "      <td>NaN</td>\n",
       "      <td>NaN</td>\n",
       "      <td>NaN</td>\n",
       "      <td>NaN</td>\n",
       "      <td>NaN</td>\n",
       "      <td>NaN</td>\n",
       "      <td>NaN</td>\n",
       "      <td>NaN</td>\n",
       "      <td>NaN</td>\n",
       "      <td>NaN</td>\n",
       "    </tr>\n",
       "    <tr>\n",
       "      <th>14</th>\n",
       "      <td>15.0</td>\n",
       "      <td>83.0</td>\n",
       "      <td>82.0</td>\n",
       "      <td>NaN</td>\n",
       "      <td>NaN</td>\n",
       "      <td>NaN</td>\n",
       "      <td>NaN</td>\n",
       "      <td>NaN</td>\n",
       "      <td>NaN</td>\n",
       "      <td>NaN</td>\n",
       "      <td>NaN</td>\n",
       "      <td>NaN</td>\n",
       "      <td>NaN</td>\n",
       "      <td>NaN</td>\n",
       "      <td>NaN</td>\n",
       "      <td>NaN</td>\n",
       "      <td>NaN</td>\n",
       "      <td>NaN</td>\n",
       "      <td>NaN</td>\n",
       "    </tr>\n",
       "    <tr>\n",
       "      <th>15</th>\n",
       "      <td>NaN</td>\n",
       "      <td>NaN</td>\n",
       "      <td>NaN</td>\n",
       "      <td>NaN</td>\n",
       "      <td>NaN</td>\n",
       "      <td>NaN</td>\n",
       "      <td>NaN</td>\n",
       "      <td>Niederberger Höhe 1b 56077 Koblenz</td>\n",
       "      <td>NaN</td>\n",
       "      <td>NaN</td>\n",
       "      <td>NaN</td>\n",
       "      <td>NaN</td>\n",
       "      <td>NaN</td>\n",
       "      <td>NaN</td>\n",
       "      <td>NaN</td>\n",
       "      <td>NaN</td>\n",
       "      <td>NaN</td>\n",
       "      <td>NaN</td>\n",
       "      <td>NaN</td>\n",
       "    </tr>\n",
       "    <tr>\n",
       "      <th>16</th>\n",
       "      <td>NaN</td>\n",
       "      <td>NaN</td>\n",
       "      <td>NaN</td>\n",
       "      <td>NaN</td>\n",
       "      <td>NaN</td>\n",
       "      <td>NaN</td>\n",
       "      <td>NaN</td>\n",
       "      <td>Niederberger Höhe 1b 56077 Koblenz</td>\n",
       "      <td>NaN</td>\n",
       "      <td>NaN</td>\n",
       "      <td>NaN</td>\n",
       "      <td>NaN</td>\n",
       "      <td>NaN</td>\n",
       "      <td>NaN</td>\n",
       "      <td>NaN</td>\n",
       "      <td>NaN</td>\n",
       "      <td>NaN</td>\n",
       "      <td>NaN</td>\n",
       "      <td>NaN</td>\n",
       "    </tr>\n",
       "    <tr>\n",
       "      <th>17</th>\n",
       "      <td>NaN</td>\n",
       "      <td>NaN</td>\n",
       "      <td>NaN</td>\n",
       "      <td>NaN</td>\n",
       "      <td>NaN</td>\n",
       "      <td>NaN</td>\n",
       "      <td>,,</td>\n",
       "      <td>NaN</td>\n",
       "      <td>NaN</td>\n",
       "      <td>NaN</td>\n",
       "      <td>NaN</td>\n",
       "      <td>NaN</td>\n",
       "      <td>NaN</td>\n",
       "      <td>NaN</td>\n",
       "      <td>NaN</td>\n",
       "      <td>NaN</td>\n",
       "      <td>NaN</td>\n",
       "      <td>NaN</td>\n",
       "      <td>NaN</td>\n",
       "    </tr>\n",
       "    <tr>\n",
       "      <th>18</th>\n",
       "      <td>NaN</td>\n",
       "      <td>NaN</td>\n",
       "      <td>NaN</td>\n",
       "      <td>NaN</td>\n",
       "      <td>NaN</td>\n",
       "      <td>NaN</td>\n",
       "      <td>NaN</td>\n",
       "      <td>NaN</td>\n",
       "      <td>NaN</td>\n",
       "      <td>NaN</td>\n",
       "      <td>NaN</td>\n",
       "      <td>NaN</td>\n",
       "      <td>NaN</td>\n",
       "      <td>NaN</td>\n",
       "      <td>NaN</td>\n",
       "      <td>NaN</td>\n",
       "      <td>NaN</td>\n",
       "      <td>NaN</td>\n",
       "      <td>NaN</td>\n",
       "    </tr>\n",
       "    <tr>\n",
       "      <th>19</th>\n",
       "      <td>NaN</td>\n",
       "      <td>NaN</td>\n",
       "      <td>NaN</td>\n",
       "      <td>NaN</td>\n",
       "      <td>NaN</td>\n",
       "      <td>NaN</td>\n",
       "      <td>NaN</td>\n",
       "      <td>NaN</td>\n",
       "      <td>NaN</td>\n",
       "      <td>NaN</td>\n",
       "      <td>NaN</td>\n",
       "      <td>NaN</td>\n",
       "      <td>NaN</td>\n",
       "      <td>NaN</td>\n",
       "      <td>NaN</td>\n",
       "      <td>NaN</td>\n",
       "      <td>NaN</td>\n",
       "      <td>NaN</td>\n",
       "      <td>NaN</td>\n",
       "    </tr>\n",
       "  </tbody>\n",
       "</table>\n",
       "</div>"
      ],
      "text/plain": [
       "      ID  starting  ending Unnamed: 3 Unnamed: 4 Unnamed: 5 Unnamed: 6  \\\n",
       "0    1.0      76.0    72.0        NaN        NaN        NaN        NaN   \n",
       "1    2.0      81.0    82.0        NaN        NaN        NaN        NaN   \n",
       "2    3.0      86.0    84.0        NaN        NaN        NaN        NaN   \n",
       "3    4.0      71.0    71.0        NaN        NaN        NaN        NaN   \n",
       "4    5.0      88.0    83.0        NaN        NaN        NaN        NaN   \n",
       "5    6.0      78.0    74.0        NaN        NaN        NaN        NaN   \n",
       "6    7.0      76.0    70.0        NaN        NaN        NaN        NaN   \n",
       "7    8.0      81.0    80.0        NaN        NaN        NaN        NaN   \n",
       "8    9.0      79.0    78.0        NaN        NaN        NaN        NaN   \n",
       "9   10.0      77.0    79.0        NaN        NaN        NaN        NaN   \n",
       "10  11.0      83.0    80.0        NaN        NaN        NaN        NaN   \n",
       "11  12.0      77.0    76.0        NaN        NaN        NaN        NaN   \n",
       "12  13.0      79.0    77.0        NaN        NaN        NaN        NaN   \n",
       "13  14.0      81.0    83.0        NaN        NaN    #ERROR!        NaN   \n",
       "14  15.0      83.0    82.0        NaN        NaN        NaN        NaN   \n",
       "15   NaN       NaN     NaN        NaN        NaN        NaN        NaN   \n",
       "16   NaN       NaN     NaN        NaN        NaN        NaN        NaN   \n",
       "17   NaN       NaN     NaN        NaN        NaN        NaN         ,,   \n",
       "18   NaN       NaN     NaN        NaN        NaN        NaN        NaN   \n",
       "19   NaN       NaN     NaN        NaN        NaN        NaN        NaN   \n",
       "\n",
       "                            Unnamed: 7 Unnamed: 8  Unnamed: 9  Unnamed: 10  \\\n",
       "0                                  NaN        NaN         NaN          NaN   \n",
       "1                                  NaN        NaN         NaN          NaN   \n",
       "2                                  NaN        NaN         NaN          NaN   \n",
       "3                                  NaN        NaN         NaN          NaN   \n",
       "4                                  NaN        NaN         NaN          NaN   \n",
       "5                                  NaN        NaN         NaN          NaN   \n",
       "6                                  NaN        NaN         NaN          NaN   \n",
       "7                                  NaN        NaN         NaN          NaN   \n",
       "8                                  NaN        NaN         NaN          NaN   \n",
       "9                                  NaN        NaN         NaN          NaN   \n",
       "10                                 NaN        NaN         NaN          NaN   \n",
       "11                                 NaN        NaN         NaN          NaN   \n",
       "12                                 NaN        NaN         NaN          NaN   \n",
       "13                                 NaN        NaN         NaN          NaN   \n",
       "14                                 NaN        NaN         NaN          NaN   \n",
       "15  Niederberger Höhe 1b 56077 Koblenz        NaN         NaN          NaN   \n",
       "16  Niederberger Höhe 1b 56077 Koblenz        NaN         NaN          NaN   \n",
       "17                                 NaN        NaN         NaN          NaN   \n",
       "18                                 NaN        NaN         NaN          NaN   \n",
       "19                                 NaN        NaN         NaN          NaN   \n",
       "\n",
       "   Unnamed: 11  Unnamed: 12 Unnamed: 13 Unnamed: 14  Unnamed: 15  Unnamed: 16  \\\n",
       "0          NaN          NaN         NaN         NaN          NaN          NaN   \n",
       "1          NaN          NaN         NaN         NaN          NaN          NaN   \n",
       "2          NaN          NaN         NaN         NaN          NaN          NaN   \n",
       "3          NaN          NaN         NaN         NaN          NaN          NaN   \n",
       "4          NaN          NaN         NaN         NaN          NaN          NaN   \n",
       "5          NaN          NaN         NaN         NaN          NaN          NaN   \n",
       "6          NaN          NaN         NaN         NaN          NaN          NaN   \n",
       "7          NaN          NaN         NaN         NaN          NaN          NaN   \n",
       "8          NaN          NaN         NaN         NaN          NaN          NaN   \n",
       "9          NaN          NaN         NaN         NaN          NaN          NaN   \n",
       "10         NaN          NaN         NaN         NaN          NaN          NaN   \n",
       "11         NaN          NaN         NaN         NaN          NaN          NaN   \n",
       "12         NaN          NaN         NaN         NaN          NaN          NaN   \n",
       "13         NaN          NaN         NaN         NaN          NaN          NaN   \n",
       "14         NaN          NaN         NaN         NaN          NaN          NaN   \n",
       "15         NaN          NaN         NaN         NaN          NaN          NaN   \n",
       "16         NaN          NaN         NaN         NaN          NaN          NaN   \n",
       "17         NaN          NaN         NaN         NaN          NaN          NaN   \n",
       "18         NaN          NaN         NaN         NaN          NaN          NaN   \n",
       "19         NaN          NaN         NaN         NaN          NaN          NaN   \n",
       "\n",
       "    Unnamed: 17 Unnamed: 18  \n",
       "0           NaN         NaN  \n",
       "1           NaN         NaN  \n",
       "2           NaN         NaN  \n",
       "3           NaN         NaN  \n",
       "4           NaN         NaN  \n",
       "5           NaN         NaN  \n",
       "6           NaN         NaN  \n",
       "7           NaN         NaN  \n",
       "8           NaN         NaN  \n",
       "9           NaN         NaN  \n",
       "10          NaN         NaN  \n",
       "11          NaN         NaN  \n",
       "12          NaN         NaN  \n",
       "13          NaN         NaN  \n",
       "14          NaN         NaN  \n",
       "15          NaN         NaN  \n",
       "16          NaN         NaN  \n",
       "17          NaN         NaN  \n",
       "18          NaN         NaN  \n",
       "19          NaN         NaN  "
      ]
     },
     "execution_count": 78,
     "metadata": {},
     "output_type": "execute_result"
    }
   ],
   "source": [
    "w=pd.read_excel(\"weight.xlsx\")\n",
    "w.head(20)"
   ]
  },
  {
   "cell_type": "code",
   "execution_count": 79,
   "id": "8f471393",
   "metadata": {},
   "outputs": [
    {
     "data": {
      "text/html": [
       "<div>\n",
       "<style scoped>\n",
       "    .dataframe tbody tr th:only-of-type {\n",
       "        vertical-align: middle;\n",
       "    }\n",
       "\n",
       "    .dataframe tbody tr th {\n",
       "        vertical-align: top;\n",
       "    }\n",
       "\n",
       "    .dataframe thead th {\n",
       "        text-align: right;\n",
       "    }\n",
       "</style>\n",
       "<table border=\"1\" class=\"dataframe\">\n",
       "  <thead>\n",
       "    <tr style=\"text-align: right;\">\n",
       "      <th></th>\n",
       "      <th>ID</th>\n",
       "      <th>starting</th>\n",
       "      <th>ending</th>\n",
       "    </tr>\n",
       "  </thead>\n",
       "  <tbody>\n",
       "    <tr>\n",
       "      <th>0</th>\n",
       "      <td>1.0</td>\n",
       "      <td>76.0</td>\n",
       "      <td>72.0</td>\n",
       "    </tr>\n",
       "    <tr>\n",
       "      <th>1</th>\n",
       "      <td>2.0</td>\n",
       "      <td>81.0</td>\n",
       "      <td>82.0</td>\n",
       "    </tr>\n",
       "    <tr>\n",
       "      <th>2</th>\n",
       "      <td>3.0</td>\n",
       "      <td>86.0</td>\n",
       "      <td>84.0</td>\n",
       "    </tr>\n",
       "    <tr>\n",
       "      <th>3</th>\n",
       "      <td>4.0</td>\n",
       "      <td>71.0</td>\n",
       "      <td>71.0</td>\n",
       "    </tr>\n",
       "    <tr>\n",
       "      <th>4</th>\n",
       "      <td>5.0</td>\n",
       "      <td>88.0</td>\n",
       "      <td>83.0</td>\n",
       "    </tr>\n",
       "    <tr>\n",
       "      <th>5</th>\n",
       "      <td>6.0</td>\n",
       "      <td>78.0</td>\n",
       "      <td>74.0</td>\n",
       "    </tr>\n",
       "    <tr>\n",
       "      <th>6</th>\n",
       "      <td>7.0</td>\n",
       "      <td>76.0</td>\n",
       "      <td>70.0</td>\n",
       "    </tr>\n",
       "    <tr>\n",
       "      <th>7</th>\n",
       "      <td>8.0</td>\n",
       "      <td>81.0</td>\n",
       "      <td>80.0</td>\n",
       "    </tr>\n",
       "    <tr>\n",
       "      <th>8</th>\n",
       "      <td>9.0</td>\n",
       "      <td>79.0</td>\n",
       "      <td>78.0</td>\n",
       "    </tr>\n",
       "    <tr>\n",
       "      <th>9</th>\n",
       "      <td>10.0</td>\n",
       "      <td>77.0</td>\n",
       "      <td>79.0</td>\n",
       "    </tr>\n",
       "    <tr>\n",
       "      <th>10</th>\n",
       "      <td>11.0</td>\n",
       "      <td>83.0</td>\n",
       "      <td>80.0</td>\n",
       "    </tr>\n",
       "    <tr>\n",
       "      <th>11</th>\n",
       "      <td>12.0</td>\n",
       "      <td>77.0</td>\n",
       "      <td>76.0</td>\n",
       "    </tr>\n",
       "    <tr>\n",
       "      <th>12</th>\n",
       "      <td>13.0</td>\n",
       "      <td>79.0</td>\n",
       "      <td>77.0</td>\n",
       "    </tr>\n",
       "    <tr>\n",
       "      <th>13</th>\n",
       "      <td>14.0</td>\n",
       "      <td>81.0</td>\n",
       "      <td>83.0</td>\n",
       "    </tr>\n",
       "    <tr>\n",
       "      <th>14</th>\n",
       "      <td>15.0</td>\n",
       "      <td>83.0</td>\n",
       "      <td>82.0</td>\n",
       "    </tr>\n",
       "  </tbody>\n",
       "</table>\n",
       "</div>"
      ],
      "text/plain": [
       "      ID  starting  ending\n",
       "0    1.0      76.0    72.0\n",
       "1    2.0      81.0    82.0\n",
       "2    3.0      86.0    84.0\n",
       "3    4.0      71.0    71.0\n",
       "4    5.0      88.0    83.0\n",
       "5    6.0      78.0    74.0\n",
       "6    7.0      76.0    70.0\n",
       "7    8.0      81.0    80.0\n",
       "8    9.0      79.0    78.0\n",
       "9   10.0      77.0    79.0\n",
       "10  11.0      83.0    80.0\n",
       "11  12.0      77.0    76.0\n",
       "12  13.0      79.0    77.0\n",
       "13  14.0      81.0    83.0\n",
       "14  15.0      83.0    82.0"
      ]
     },
     "execution_count": 79,
     "metadata": {},
     "output_type": "execute_result"
    }
   ],
   "source": [
    "w = w[[\"ID\",\"starting\", \"ending\"]].head(15)\n",
    "w"
   ]
  },
  {
   "cell_type": "code",
   "execution_count": 80,
   "id": "ea6ace75",
   "metadata": {},
   "outputs": [
    {
     "name": "stdout",
     "output_type": "stream",
     "text": [
      "<class 'pandas.core.frame.DataFrame'>\n",
      "RangeIndex: 15 entries, 0 to 14\n",
      "Data columns (total 3 columns):\n",
      " #   Column    Non-Null Count  Dtype  \n",
      "---  ------    --------------  -----  \n",
      " 0   ID        15 non-null     float64\n",
      " 1   starting  15 non-null     float64\n",
      " 2   ending    15 non-null     float64\n",
      "dtypes: float64(3)\n",
      "memory usage: 488.0 bytes\n"
     ]
    }
   ],
   "source": [
    "w.info()"
   ]
  },
  {
   "cell_type": "code",
   "execution_count": 81,
   "id": "ea464510",
   "metadata": {
    "scrolled": true
   },
   "outputs": [
    {
     "data": {
      "text/html": [
       "<div>\n",
       "<style scoped>\n",
       "    .dataframe tbody tr th:only-of-type {\n",
       "        vertical-align: middle;\n",
       "    }\n",
       "\n",
       "    .dataframe tbody tr th {\n",
       "        vertical-align: top;\n",
       "    }\n",
       "\n",
       "    .dataframe thead th {\n",
       "        text-align: right;\n",
       "    }\n",
       "</style>\n",
       "<table border=\"1\" class=\"dataframe\">\n",
       "  <thead>\n",
       "    <tr style=\"text-align: right;\">\n",
       "      <th></th>\n",
       "      <th>ID</th>\n",
       "      <th>starting</th>\n",
       "      <th>ending</th>\n",
       "    </tr>\n",
       "  </thead>\n",
       "  <tbody>\n",
       "    <tr>\n",
       "      <th>count</th>\n",
       "      <td>15</td>\n",
       "      <td>15</td>\n",
       "      <td>15</td>\n",
       "    </tr>\n",
       "    <tr>\n",
       "      <th>unique</th>\n",
       "      <td>15</td>\n",
       "      <td>9</td>\n",
       "      <td>12</td>\n",
       "    </tr>\n",
       "    <tr>\n",
       "      <th>top</th>\n",
       "      <td>1.0</td>\n",
       "      <td>81.0</td>\n",
       "      <td>82.0</td>\n",
       "    </tr>\n",
       "    <tr>\n",
       "      <th>freq</th>\n",
       "      <td>1</td>\n",
       "      <td>3</td>\n",
       "      <td>2</td>\n",
       "    </tr>\n",
       "  </tbody>\n",
       "</table>\n",
       "</div>"
      ],
      "text/plain": [
       "         ID starting ending\n",
       "count    15       15     15\n",
       "unique   15        9     12\n",
       "top     1.0     81.0   82.0\n",
       "freq      1        3      2"
      ]
     },
     "execution_count": 81,
     "metadata": {},
     "output_type": "execute_result"
    }
   ],
   "source": [
    "weight.describe()"
   ]
  },
  {
   "cell_type": "code",
   "execution_count": 82,
   "id": "0d625d35",
   "metadata": {},
   "outputs": [
    {
     "data": {
      "text/html": [
       "<div>\n",
       "<style scoped>\n",
       "    .dataframe tbody tr th:only-of-type {\n",
       "        vertical-align: middle;\n",
       "    }\n",
       "\n",
       "    .dataframe tbody tr th {\n",
       "        vertical-align: top;\n",
       "    }\n",
       "\n",
       "    .dataframe thead th {\n",
       "        text-align: right;\n",
       "    }\n",
       "</style>\n",
       "<table border=\"1\" class=\"dataframe\">\n",
       "  <thead>\n",
       "    <tr style=\"text-align: right;\">\n",
       "      <th></th>\n",
       "      <th>ID</th>\n",
       "      <th>starting</th>\n",
       "      <th>ending</th>\n",
       "      <th>S_E</th>\n",
       "    </tr>\n",
       "  </thead>\n",
       "  <tbody>\n",
       "    <tr>\n",
       "      <th>0</th>\n",
       "      <td>1.0</td>\n",
       "      <td>76.0</td>\n",
       "      <td>72.0</td>\n",
       "      <td>4.0</td>\n",
       "    </tr>\n",
       "    <tr>\n",
       "      <th>1</th>\n",
       "      <td>2.0</td>\n",
       "      <td>81.0</td>\n",
       "      <td>82.0</td>\n",
       "      <td>-1.0</td>\n",
       "    </tr>\n",
       "    <tr>\n",
       "      <th>2</th>\n",
       "      <td>3.0</td>\n",
       "      <td>86.0</td>\n",
       "      <td>84.0</td>\n",
       "      <td>2.0</td>\n",
       "    </tr>\n",
       "    <tr>\n",
       "      <th>3</th>\n",
       "      <td>4.0</td>\n",
       "      <td>71.0</td>\n",
       "      <td>71.0</td>\n",
       "      <td>0.0</td>\n",
       "    </tr>\n",
       "    <tr>\n",
       "      <th>4</th>\n",
       "      <td>5.0</td>\n",
       "      <td>88.0</td>\n",
       "      <td>83.0</td>\n",
       "      <td>5.0</td>\n",
       "    </tr>\n",
       "    <tr>\n",
       "      <th>5</th>\n",
       "      <td>6.0</td>\n",
       "      <td>78.0</td>\n",
       "      <td>74.0</td>\n",
       "      <td>4.0</td>\n",
       "    </tr>\n",
       "    <tr>\n",
       "      <th>6</th>\n",
       "      <td>7.0</td>\n",
       "      <td>76.0</td>\n",
       "      <td>70.0</td>\n",
       "      <td>6.0</td>\n",
       "    </tr>\n",
       "    <tr>\n",
       "      <th>7</th>\n",
       "      <td>8.0</td>\n",
       "      <td>81.0</td>\n",
       "      <td>80.0</td>\n",
       "      <td>1.0</td>\n",
       "    </tr>\n",
       "    <tr>\n",
       "      <th>8</th>\n",
       "      <td>9.0</td>\n",
       "      <td>79.0</td>\n",
       "      <td>78.0</td>\n",
       "      <td>1.0</td>\n",
       "    </tr>\n",
       "    <tr>\n",
       "      <th>9</th>\n",
       "      <td>10.0</td>\n",
       "      <td>77.0</td>\n",
       "      <td>79.0</td>\n",
       "      <td>-2.0</td>\n",
       "    </tr>\n",
       "    <tr>\n",
       "      <th>10</th>\n",
       "      <td>11.0</td>\n",
       "      <td>83.0</td>\n",
       "      <td>80.0</td>\n",
       "      <td>3.0</td>\n",
       "    </tr>\n",
       "    <tr>\n",
       "      <th>11</th>\n",
       "      <td>12.0</td>\n",
       "      <td>77.0</td>\n",
       "      <td>76.0</td>\n",
       "      <td>1.0</td>\n",
       "    </tr>\n",
       "    <tr>\n",
       "      <th>12</th>\n",
       "      <td>13.0</td>\n",
       "      <td>79.0</td>\n",
       "      <td>77.0</td>\n",
       "      <td>2.0</td>\n",
       "    </tr>\n",
       "    <tr>\n",
       "      <th>13</th>\n",
       "      <td>14.0</td>\n",
       "      <td>81.0</td>\n",
       "      <td>83.0</td>\n",
       "      <td>-2.0</td>\n",
       "    </tr>\n",
       "    <tr>\n",
       "      <th>14</th>\n",
       "      <td>15.0</td>\n",
       "      <td>83.0</td>\n",
       "      <td>82.0</td>\n",
       "      <td>1.0</td>\n",
       "    </tr>\n",
       "  </tbody>\n",
       "</table>\n",
       "</div>"
      ],
      "text/plain": [
       "      ID  starting  ending  S_E\n",
       "0    1.0      76.0    72.0  4.0\n",
       "1    2.0      81.0    82.0 -1.0\n",
       "2    3.0      86.0    84.0  2.0\n",
       "3    4.0      71.0    71.0  0.0\n",
       "4    5.0      88.0    83.0  5.0\n",
       "5    6.0      78.0    74.0  4.0\n",
       "6    7.0      76.0    70.0  6.0\n",
       "7    8.0      81.0    80.0  1.0\n",
       "8    9.0      79.0    78.0  1.0\n",
       "9   10.0      77.0    79.0 -2.0\n",
       "10  11.0      83.0    80.0  3.0\n",
       "11  12.0      77.0    76.0  1.0\n",
       "12  13.0      79.0    77.0  2.0\n",
       "13  14.0      81.0    83.0 -2.0\n",
       "14  15.0      83.0    82.0  1.0"
      ]
     },
     "execution_count": 82,
     "metadata": {},
     "output_type": "execute_result"
    }
   ],
   "source": [
    "w[\"S_E\"]=w.starting - w.ending\n",
    "w"
   ]
  },
  {
   "cell_type": "code",
   "execution_count": 71,
   "id": "af9502e4",
   "metadata": {},
   "outputs": [],
   "source": [
    "# HO : MU1 = MU2\n",
    "# H1 : MU =! MU2"
   ]
  },
  {
   "cell_type": "code",
   "execution_count": 72,
   "id": "e8f8d69c",
   "metadata": {},
   "outputs": [
    {
     "data": {
      "text/plain": [
       "Ttest_relResult(statistic=2.6780834840499255, pvalue=0.00900646517506626)"
      ]
     },
     "execution_count": 72,
     "metadata": {},
     "output_type": "execute_result"
    }
   ],
   "source": [
    "RelTest = stats.ttest_rel(w.starting,w.ending,alternative=\"greater\")\n",
    "#RelTest = stats.ttest_rel(w.ending,w.starting,alternative=\"less\")\n",
    "RelTest"
   ]
  },
  {
   "cell_type": "code",
   "execution_count": 74,
   "id": "d55dc580",
   "metadata": {},
   "outputs": [
    {
     "name": "stdout",
     "output_type": "stream",
     "text": [
      "Fail to reject\n"
     ]
    }
   ],
   "source": [
    "alpha = 0.01\n",
    "\n",
    "if indTest.pvalue < alpha:\n",
    "    print(\"Reject the Null\")\n",
    "else:\n",
    "    print(\"Fail to reject\")"
   ]
  },
  {
   "cell_type": "code",
   "execution_count": 103,
   "id": "302421eb",
   "metadata": {},
   "outputs": [],
   "source": [
    "#melt_result=pd.melt(id_vars=\"ID\",value_vars=[\"starting\",\"ending\"],var_name=\"weights\",value_name=\"S_E\",frame=w)\n",
    "#melt_result\n",
    "#sns.countplot(x=melt_result[\"S_E\"],hue = melt_result[\"weights\"]);"
   ]
  }
 ],
 "metadata": {
  "kernelspec": {
   "display_name": "Python 3 (ipykernel)",
   "language": "python",
   "name": "python3"
  },
  "language_info": {
   "codemirror_mode": {
    "name": "ipython",
    "version": 3
   },
   "file_extension": ".py",
   "mimetype": "text/x-python",
   "name": "python",
   "nbconvert_exporter": "python",
   "pygments_lexer": "ipython3",
   "version": "3.9.12"
  },
  "varInspector": {
   "cols": {
    "lenName": 16,
    "lenType": 16,
    "lenVar": 40
   },
   "kernels_config": {
    "python": {
     "delete_cmd_postfix": "",
     "delete_cmd_prefix": "del ",
     "library": "var_list.py",
     "varRefreshCmd": "print(var_dic_list())"
    },
    "r": {
     "delete_cmd_postfix": ") ",
     "delete_cmd_prefix": "rm(",
     "library": "var_list.r",
     "varRefreshCmd": "cat(var_dic_list()) "
    }
   },
   "types_to_exclude": [
    "module",
    "function",
    "builtin_function_or_method",
    "instance",
    "_Feature"
   ],
   "window_display": false
  }
 },
 "nbformat": 4,
 "nbformat_minor": 5
}
