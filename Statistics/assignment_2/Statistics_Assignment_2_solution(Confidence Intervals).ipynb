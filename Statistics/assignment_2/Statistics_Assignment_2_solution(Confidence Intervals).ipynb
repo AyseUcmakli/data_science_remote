{
 "cells": [
  {
   "cell_type": "code",
   "execution_count": 55,
   "id": "2197b80a",
   "metadata": {},
   "outputs": [],
   "source": [
    "import numpy as np\n",
    "from scipy import stats\n",
    "import matplotlib.pyplot as plt\n",
    "import seaborn as sns"
   ]
  },
  {
   "cell_type": "markdown",
   "id": "5bf2500d",
   "metadata": {},
   "source": [
    "# EXERCISE 1.\n",
    "Suppose scores on exams in statistics are normally distributed with an unknown population mean and a population standard deviation of 3 points. A random sample of 36 scores is taken and gives a sample mean (sample  mean score) of 68. Find a confidence interval estimate for the population mean exam score (the mean score on all exams).\n",
    "\n",
    "Find a 90% confidence interval for the true (population) mean of statistics exam scores."
   ]
  },
  {
   "cell_type": "code",
   "execution_count": 56,
   "id": "955e812c",
   "metadata": {},
   "outputs": [],
   "source": [
    "sigma = 3      #sigma=standard devision\n",
    "xbar=  68     #saample mean\n",
    "#sem = sigma/kareköksample    # sem=standard error\n",
    "n =36 "
   ]
  },
  {
   "cell_type": "code",
   "execution_count": 57,
   "id": "5778ed30",
   "metadata": {},
   "outputs": [
    {
     "data": {
      "text/plain": [
       "0.5"
      ]
     },
     "execution_count": 57,
     "metadata": {},
     "output_type": "execute_result"
    }
   ],
   "source": [
    "sem = sigma/(np.sqrt(36))\n",
    "sem"
   ]
  },
  {
   "cell_type": "code",
   "execution_count": 58,
   "id": "1b5015a9",
   "metadata": {},
   "outputs": [
    {
     "data": {
      "text/plain": [
       "0.98"
      ]
     },
     "execution_count": 58,
     "metadata": {},
     "output_type": "execute_result"
    }
   ],
   "source": [
    "moe= 1.96 * sem\n",
    "moe"
   ]
  },
  {
   "cell_type": "code",
   "execution_count": 59,
   "id": "043d39ac",
   "metadata": {},
   "outputs": [],
   "source": [
    "#calculate manuel"
   ]
  },
  {
   "cell_type": "code",
   "execution_count": 60,
   "id": "b801a6f1",
   "metadata": {},
   "outputs": [
    {
     "data": {
      "text/plain": [
       "67.02"
      ]
     },
     "execution_count": 60,
     "metadata": {},
     "output_type": "execute_result"
    }
   ],
   "source": [
    "lower_limit = xbar - moe\n",
    "lower_limit"
   ]
  },
  {
   "cell_type": "code",
   "execution_count": 61,
   "id": "214b162b",
   "metadata": {},
   "outputs": [
    {
     "data": {
      "text/plain": [
       "68.98"
      ]
     },
     "execution_count": 61,
     "metadata": {},
     "output_type": "execute_result"
    }
   ],
   "source": [
    "upper_limit = xbar + moe\n",
    "upper_limit"
   ]
  },
  {
   "cell_type": "code",
   "execution_count": 62,
   "id": "acfc336d",
   "metadata": {},
   "outputs": [],
   "source": [
    "#calculate with python"
   ]
  },
  {
   "cell_type": "code",
   "execution_count": 63,
   "id": "2d7521dd",
   "metadata": {},
   "outputs": [
    {
     "data": {
      "text/plain": [
       "(67.02001800772997, 68.97998199227003)"
      ]
     },
     "execution_count": 63,
     "metadata": {},
     "output_type": "execute_result"
    }
   ],
   "source": [
    "stats.norm.interval(0.95, loc = xbar, scale = sem)\n",
    "#confidence internal with normal distrubition "
   ]
  },
  {
   "cell_type": "markdown",
   "id": "f170d61b",
   "metadata": {},
   "source": [
    "# EXERCISE 2. \n",
    "What is the normal body temperature for healthy humans? A random sample of 130 healthy human body temperatures provided by Allen Shoemaker7 yielded 98.25 degrees and standard deviation 0.73 degrees. \n",
    "\n",
    "Give a 99% confidence interval for the average body temperature of healthy people."
   ]
  },
  {
   "cell_type": "code",
   "execution_count": 64,
   "id": "f62f840b",
   "metadata": {},
   "outputs": [],
   "source": [
    "sigma = 0.73      #sigma=standard devision\n",
    "xbar=  98.25      #saample mean\n",
    "#sem = sigma/kareköksample    # sem=standard error\n",
    "n =130           "
   ]
  },
  {
   "cell_type": "code",
   "execution_count": 65,
   "id": "a04ea022",
   "metadata": {},
   "outputs": [
    {
     "data": {
      "text/plain": [
       "0.06402523540941313"
      ]
     },
     "execution_count": 65,
     "metadata": {},
     "output_type": "execute_result"
    }
   ],
   "source": [
    "sem = sigma/(np.sqrt(n))\n",
    "sem"
   ]
  },
  {
   "cell_type": "code",
   "execution_count": 66,
   "id": "6d684264",
   "metadata": {},
   "outputs": [
    {
     "data": {
      "text/plain": [
       "0.16492900641464822"
      ]
     },
     "execution_count": 66,
     "metadata": {},
     "output_type": "execute_result"
    }
   ],
   "source": [
    "moe= 2.576 * sem\n",
    "moe"
   ]
  },
  {
   "cell_type": "code",
   "execution_count": 67,
   "id": "a5361180",
   "metadata": {},
   "outputs": [],
   "source": [
    "#calculate manuel"
   ]
  },
  {
   "cell_type": "code",
   "execution_count": 68,
   "id": "ca3c0da1",
   "metadata": {},
   "outputs": [
    {
     "data": {
      "text/plain": [
       "98.08507099358535"
      ]
     },
     "execution_count": 68,
     "metadata": {},
     "output_type": "execute_result"
    }
   ],
   "source": [
    "lower_limit = xbar - moe\n",
    "lower_limit"
   ]
  },
  {
   "cell_type": "code",
   "execution_count": 69,
   "id": "1dded504",
   "metadata": {},
   "outputs": [
    {
     "data": {
      "text/plain": [
       "98.41492900641465"
      ]
     },
     "execution_count": 69,
     "metadata": {},
     "output_type": "execute_result"
    }
   ],
   "source": [
    "upper_limit = xbar + moe\n",
    "upper_limit"
   ]
  },
  {
   "cell_type": "code",
   "execution_count": 70,
   "id": "6a732ec1",
   "metadata": {},
   "outputs": [],
   "source": [
    "#calculate with python"
   ]
  },
  {
   "cell_type": "code",
   "execution_count": 71,
   "id": "ae92b52b",
   "metadata": {},
   "outputs": [
    {
     "data": {
      "text/plain": [
       "(98.08508192246582, 98.41491807753418)"
      ]
     },
     "execution_count": 71,
     "metadata": {},
     "output_type": "execute_result"
    }
   ],
   "source": [
    "stats.norm.interval(0.99, loc = xbar, scale = sem)\n",
    "#confidence internal with normal distrubition "
   ]
  },
  {
   "cell_type": "code",
   "execution_count": 72,
   "id": "39a449af",
   "metadata": {},
   "outputs": [
    {
     "data": {
      "text/plain": [
       "(98.08260738705933, 98.41739261294067)"
      ]
     },
     "execution_count": 72,
     "metadata": {},
     "output_type": "execute_result"
    }
   ],
   "source": [
    "stats.t.interval(0.99,df= n-1, loc = xbar, scale = sem)\n",
    "#confidence internal with t distrubition "
   ]
  },
  {
   "cell_type": "markdown",
   "id": "00f0cad0",
   "metadata": {},
   "source": [
    "# EXERCISE 3.\n",
    "The administrators for a hospital wished to estimate the average number of days required for inpatient treatment of patients between the ages of 25 and 34. A random sample of 500 hospital patients between these ages produced a mean and standard deviation equal to 5.4 and 3.1 days, respectively.\n",
    "Construct a 95% confidence interval for the mean length of stay for the population of patients from which the sample was drawn."
   ]
  },
  {
   "cell_type": "code",
   "execution_count": 73,
   "id": "76d381a9",
   "metadata": {},
   "outputs": [],
   "source": [
    "sigma = 3.1    #sigma=standard devision\n",
    "xbar=  5.4     #saample mean\n",
    "#sem = sigma/kareköksample    # sem=standard error\n",
    "n =500"
   ]
  },
  {
   "cell_type": "code",
   "execution_count": 74,
   "id": "857e1617",
   "metadata": {},
   "outputs": [
    {
     "data": {
      "text/plain": [
       "0.13863621460498696"
      ]
     },
     "execution_count": 74,
     "metadata": {},
     "output_type": "execute_result"
    }
   ],
   "source": [
    "sem = sigma/(np.sqrt(n))\n",
    "sem"
   ]
  },
  {
   "cell_type": "code",
   "execution_count": 75,
   "id": "b9839ac1",
   "metadata": {},
   "outputs": [
    {
     "data": {
      "text/plain": [
       "0.27172698062577444"
      ]
     },
     "execution_count": 75,
     "metadata": {},
     "output_type": "execute_result"
    }
   ],
   "source": [
    "moe= 1.96 * sem\n",
    "moe"
   ]
  },
  {
   "cell_type": "code",
   "execution_count": 76,
   "id": "1d063279",
   "metadata": {},
   "outputs": [],
   "source": [
    "#calculate manuel"
   ]
  },
  {
   "cell_type": "code",
   "execution_count": 77,
   "id": "1f5d8b71",
   "metadata": {},
   "outputs": [
    {
     "data": {
      "text/plain": [
       "5.128273019374226"
      ]
     },
     "execution_count": 77,
     "metadata": {},
     "output_type": "execute_result"
    }
   ],
   "source": [
    "lower_limit = xbar - moe\n",
    "lower_limit"
   ]
  },
  {
   "cell_type": "code",
   "execution_count": 78,
   "id": "db171fbe",
   "metadata": {},
   "outputs": [
    {
     "data": {
      "text/plain": [
       "5.671726980625775"
      ]
     },
     "execution_count": 78,
     "metadata": {},
     "output_type": "execute_result"
    }
   ],
   "source": [
    "upper_limit = xbar + moe\n",
    "upper_limit"
   ]
  },
  {
   "cell_type": "code",
   "execution_count": 79,
   "id": "a10c41a6",
   "metadata": {},
   "outputs": [],
   "source": [
    "#calculate with python"
   ]
  },
  {
   "cell_type": "code",
   "execution_count": 80,
   "id": "44f07ba0",
   "metadata": {},
   "outputs": [
    {
     "data": {
      "text/plain": [
       "(5.12827801242126, 5.67172198757874)"
      ]
     },
     "execution_count": 80,
     "metadata": {},
     "output_type": "execute_result"
    }
   ],
   "source": [
    "stats.norm.interval(0.95, loc = xbar, scale = sem)\n",
    "#confidence internal with normal distrubition "
   ]
  },
  {
   "cell_type": "code",
   "execution_count": 54,
   "id": "da97a610",
   "metadata": {},
   "outputs": [
    {
     "data": {
      "text/plain": [
       "(5.127617354510309, 5.672382645489692)"
      ]
     },
     "execution_count": 54,
     "metadata": {},
     "output_type": "execute_result"
    }
   ],
   "source": [
    "stats.t.interval(0.95,df= n-1, loc = xbar, scale = sem)\n",
    "#confidence internal with t distrubition "
   ]
  },
  {
   "cell_type": "code",
   "execution_count": null,
   "id": "1b75524a",
   "metadata": {},
   "outputs": [],
   "source": []
  }
 ],
 "metadata": {
  "kernelspec": {
   "display_name": "Python 3 (ipykernel)",
   "language": "python",
   "name": "python3"
  },
  "language_info": {
   "codemirror_mode": {
    "name": "ipython",
    "version": 3
   },
   "file_extension": ".py",
   "mimetype": "text/x-python",
   "name": "python",
   "nbconvert_exporter": "python",
   "pygments_lexer": "ipython3",
   "version": "3.9.12"
  },
  "varInspector": {
   "cols": {
    "lenName": 16,
    "lenType": 16,
    "lenVar": 40
   },
   "kernels_config": {
    "python": {
     "delete_cmd_postfix": "",
     "delete_cmd_prefix": "del ",
     "library": "var_list.py",
     "varRefreshCmd": "print(var_dic_list())"
    },
    "r": {
     "delete_cmd_postfix": ") ",
     "delete_cmd_prefix": "rm(",
     "library": "var_list.r",
     "varRefreshCmd": "cat(var_dic_list()) "
    }
   },
   "types_to_exclude": [
    "module",
    "function",
    "builtin_function_or_method",
    "instance",
    "_Feature"
   ],
   "window_display": false
  }
 },
 "nbformat": 4,
 "nbformat_minor": 5
}
